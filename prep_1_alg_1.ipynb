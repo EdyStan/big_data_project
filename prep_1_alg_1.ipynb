{
 "cells": [
  {
   "cell_type": "code",
   "execution_count": 10,
   "metadata": {},
   "outputs": [],
   "source": [
    "import pandas as pd\n",
    "from sklearn.model_selection import train_test_split\n",
    "from sklearn.ensemble import RandomForestClassifier\n",
    "from sklearn.metrics import accuracy_score"
   ]
  },
  {
   "cell_type": "code",
   "execution_count": 2,
   "metadata": {},
   "outputs": [],
   "source": [
    "raw_data = pd.read_csv('data/diabetic_data.csv')"
   ]
  },
  {
   "cell_type": "code",
   "execution_count": 4,
   "metadata": {},
   "outputs": [],
   "source": [
    "def encode_object_features(df):\n",
    "    encoded_df = df.copy()\n",
    "    for column in df.columns:\n",
    "        if df[column].dtype == 'object':\n",
    "            encoded_df[column], _ = pd.factorize(df[column])\n",
    "    return encoded_df"
   ]
  },
  {
   "cell_type": "code",
   "execution_count": 5,
   "metadata": {},
   "outputs": [
    {
     "name": "stdout",
     "output_type": "stream",
     "text": [
      "<class 'pandas.core.frame.DataFrame'>\n",
      "RangeIndex: 101766 entries, 0 to 101765\n",
      "Data columns (total 50 columns):\n",
      " #   Column                    Non-Null Count   Dtype\n",
      "---  ------                    --------------   -----\n",
      " 0   encounter_id              101766 non-null  int64\n",
      " 1   patient_nbr               101766 non-null  int64\n",
      " 2   race                      101766 non-null  int64\n",
      " 3   gender                    101766 non-null  int64\n",
      " 4   age                       101766 non-null  int64\n",
      " 5   weight                    101766 non-null  int64\n",
      " 6   admission_type_id         101766 non-null  int64\n",
      " 7   discharge_disposition_id  101766 non-null  int64\n",
      " 8   admission_source_id       101766 non-null  int64\n",
      " 9   time_in_hospital          101766 non-null  int64\n",
      " 10  payer_code                101766 non-null  int64\n",
      " 11  medical_specialty         101766 non-null  int64\n",
      " 12  num_lab_procedures        101766 non-null  int64\n",
      " 13  num_procedures            101766 non-null  int64\n",
      " 14  num_medications           101766 non-null  int64\n",
      " 15  number_outpatient         101766 non-null  int64\n",
      " 16  number_emergency          101766 non-null  int64\n",
      " 17  number_inpatient          101766 non-null  int64\n",
      " 18  diag_1                    101766 non-null  int64\n",
      " 19  diag_2                    101766 non-null  int64\n",
      " 20  diag_3                    101766 non-null  int64\n",
      " 21  number_diagnoses          101766 non-null  int64\n",
      " 22  max_glu_serum             101766 non-null  int64\n",
      " 23  A1Cresult                 101766 non-null  int64\n",
      " 24  metformin                 101766 non-null  int64\n",
      " 25  repaglinide               101766 non-null  int64\n",
      " 26  nateglinide               101766 non-null  int64\n",
      " 27  chlorpropamide            101766 non-null  int64\n",
      " 28  glimepiride               101766 non-null  int64\n",
      " 29  acetohexamide             101766 non-null  int64\n",
      " 30  glipizide                 101766 non-null  int64\n",
      " 31  glyburide                 101766 non-null  int64\n",
      " 32  tolbutamide               101766 non-null  int64\n",
      " 33  pioglitazone              101766 non-null  int64\n",
      " 34  rosiglitazone             101766 non-null  int64\n",
      " 35  acarbose                  101766 non-null  int64\n",
      " 36  miglitol                  101766 non-null  int64\n",
      " 37  troglitazone              101766 non-null  int64\n",
      " 38  tolazamide                101766 non-null  int64\n",
      " 39  examide                   101766 non-null  int64\n",
      " 40  citoglipton               101766 non-null  int64\n",
      " 41  insulin                   101766 non-null  int64\n",
      " 42  glyburide-metformin       101766 non-null  int64\n",
      " 43  glipizide-metformin       101766 non-null  int64\n",
      " 44  glimepiride-pioglitazone  101766 non-null  int64\n",
      " 45  metformin-rosiglitazone   101766 non-null  int64\n",
      " 46  metformin-pioglitazone    101766 non-null  int64\n",
      " 47  change                    101766 non-null  int64\n",
      " 48  diabetesMed               101766 non-null  int64\n",
      " 49  readmitted                101766 non-null  int64\n",
      "dtypes: int64(50)\n",
      "memory usage: 38.8 MB\n"
     ]
    }
   ],
   "source": [
    "encoded_data = encode_object_features(raw_data)\n",
    "encoded_data.info()"
   ]
  },
  {
   "cell_type": "code",
   "execution_count": 7,
   "metadata": {},
   "outputs": [],
   "source": [
    "X, y = encoded_data.drop(columns=['readmitted']), encoded_data['readmitted']"
   ]
  },
  {
   "cell_type": "code",
   "execution_count": 9,
   "metadata": {},
   "outputs": [],
   "source": [
    "X_train, X_test, y_train, y_test = train_test_split(X, y, test_size=0.2, random_state=42)"
   ]
  },
  {
   "cell_type": "code",
   "execution_count": 11,
   "metadata": {},
   "outputs": [
    {
     "name": "stdout",
     "output_type": "stream",
     "text": [
      "Accuracy: 0.6002751301955389\n"
     ]
    }
   ],
   "source": [
    "rf_classifier = RandomForestClassifier(n_estimators=100, random_state=42)\n",
    "rf_classifier.fit(X_train, y_train)\n",
    "y_pred = rf_classifier.predict(X_test)\n",
    "accuracy = accuracy_score(y_test, y_pred)\n",
    "print(\"Accuracy:\", accuracy)"
   ]
  }
 ],
 "metadata": {
  "kernelspec": {
   "display_name": ".venv",
   "language": "python",
   "name": "python3"
  },
  "language_info": {
   "codemirror_mode": {
    "name": "ipython",
    "version": 3
   },
   "file_extension": ".py",
   "mimetype": "text/x-python",
   "name": "python",
   "nbconvert_exporter": "python",
   "pygments_lexer": "ipython3",
   "version": "3.10.12"
  }
 },
 "nbformat": 4,
 "nbformat_minor": 2
}
