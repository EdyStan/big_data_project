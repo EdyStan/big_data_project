{
 "cells": [
  {
   "cell_type": "code",
   "execution_count": 1,
   "metadata": {},
   "outputs": [
    {
     "name": "stdout",
     "output_type": "stream",
     "text": [
      "<class 'pandas.core.frame.DataFrame'>\n",
      "RangeIndex: 101766 entries, 0 to 101765\n",
      "Data columns (total 50 columns):\n",
      " #   Column                    Non-Null Count   Dtype\n",
      "---  ------                    --------------   -----\n",
      " 0   encounter_id              101766 non-null  int64\n",
      " 1   patient_nbr               101766 non-null  int64\n",
      " 2   race                      101766 non-null  int64\n",
      " 3   gender                    101766 non-null  int64\n",
      " 4   age                       101766 non-null  int64\n",
      " 5   weight                    101766 non-null  int64\n",
      " 6   admission_type_id         101766 non-null  int64\n",
      " 7   discharge_disposition_id  101766 non-null  int64\n",
      " 8   admission_source_id       101766 non-null  int64\n",
      " 9   time_in_hospital          101766 non-null  int64\n",
      " 10  payer_code                101766 non-null  int64\n",
      " 11  medical_specialty         101766 non-null  int64\n",
      " 12  num_lab_procedures        101766 non-null  int64\n",
      " 13  num_procedures            101766 non-null  int64\n",
      " 14  num_medications           101766 non-null  int64\n",
      " 15  number_outpatient         101766 non-null  int64\n",
      " 16  number_emergency          101766 non-null  int64\n",
      " 17  number_inpatient          101766 non-null  int64\n",
      " 18  diag_1                    101766 non-null  int64\n",
      " 19  diag_2                    101766 non-null  int64\n",
      " 20  diag_3                    101766 non-null  int64\n",
      " 21  number_diagnoses          101766 non-null  int64\n",
      " 22  max_glu_serum             101766 non-null  int64\n",
      " 23  A1Cresult                 101766 non-null  int64\n",
      " 24  metformin                 101766 non-null  int64\n",
      " 25  repaglinide               101766 non-null  int64\n",
      " 26  nateglinide               101766 non-null  int64\n",
      " 27  chlorpropamide            101766 non-null  int64\n",
      " 28  glimepiride               101766 non-null  int64\n",
      " 29  acetohexamide             101766 non-null  int64\n",
      " 30  glipizide                 101766 non-null  int64\n",
      " 31  glyburide                 101766 non-null  int64\n",
      " 32  tolbutamide               101766 non-null  int64\n",
      " 33  pioglitazone              101766 non-null  int64\n",
      " 34  rosiglitazone             101766 non-null  int64\n",
      " 35  acarbose                  101766 non-null  int64\n",
      " 36  miglitol                  101766 non-null  int64\n",
      " 37  troglitazone              101766 non-null  int64\n",
      " 38  tolazamide                101766 non-null  int64\n",
      " 39  examide                   101766 non-null  int64\n",
      " 40  citoglipton               101766 non-null  int64\n",
      " 41  insulin                   101766 non-null  int64\n",
      " 42  glyburide-metformin       101766 non-null  int64\n",
      " 43  glipizide-metformin       101766 non-null  int64\n",
      " 44  glimepiride-pioglitazone  101766 non-null  int64\n",
      " 45  metformin-rosiglitazone   101766 non-null  int64\n",
      " 46  metformin-pioglitazone    101766 non-null  int64\n",
      " 47  change                    101766 non-null  int64\n",
      " 48  diabetesMed               101766 non-null  int64\n",
      " 49  readmitted                101766 non-null  int64\n",
      "dtypes: int64(50)\n",
      "memory usage: 38.8 MB\n",
      "None\n"
     ]
    }
   ],
   "source": [
    "%run prep_1.py"
   ]
  },
  {
   "cell_type": "code",
   "execution_count": 2,
   "metadata": {},
   "outputs": [
    {
     "name": "stderr",
     "output_type": "stream",
     "text": [
      "/home/edstan/Desktop/master_AI/sem2/big_data/final_project/.venv/lib/python3.10/site-packages/sklearn/svm/_classes.py:31: FutureWarning: The default value of `dual` will change from `True` to `'auto'` in 1.5. Set the value of `dual` explicitly to suppress the warning.\n",
      "  warnings.warn(\n"
     ]
    },
    {
     "name": "stdout",
     "output_type": "stream",
     "text": [
      "Accuracy: 0.31261668468114373\n"
     ]
    },
    {
     "name": "stderr",
     "output_type": "stream",
     "text": [
      "/home/edstan/Desktop/master_AI/sem2/big_data/final_project/.venv/lib/python3.10/site-packages/sklearn/svm/_base.py:1237: ConvergenceWarning: Liblinear failed to converge, increase the number of iterations.\n",
      "  warnings.warn(\n"
     ]
    }
   ],
   "source": [
    "from sklearn.svm import LinearSVC\n",
    "\n",
    "\n",
    "classifier = LinearSVC()\n",
    "classifier.fit(X_train, y_train)\n",
    "y_pred = classifier.predict(X_test)\n",
    "accuracy = accuracy_score(y_test, y_pred)\n",
    "print(\"Accuracy:\", accuracy)"
   ]
  },
  {
   "cell_type": "code",
   "execution_count": 3,
   "metadata": {},
   "outputs": [
    {
     "data": {
      "text/html": [
       "<div>\n",
       "<style scoped>\n",
       "    .dataframe tbody tr th:only-of-type {\n",
       "        vertical-align: middle;\n",
       "    }\n",
       "\n",
       "    .dataframe tbody tr th {\n",
       "        vertical-align: top;\n",
       "    }\n",
       "\n",
       "    .dataframe thead th {\n",
       "        text-align: right;\n",
       "    }\n",
       "</style>\n",
       "<table border=\"1\" class=\"dataframe\">\n",
       "  <thead>\n",
       "    <tr style=\"text-align: right;\">\n",
       "      <th></th>\n",
       "      <th>Preparation Method</th>\n",
       "      <th>Random Forest Classifier</th>\n",
       "      <th>Linear SVC</th>\n",
       "      <th>KNN</th>\n",
       "      <th>Naive Bayes</th>\n",
       "    </tr>\n",
       "  </thead>\n",
       "  <tbody>\n",
       "    <tr>\n",
       "      <th>0</th>\n",
       "      <td>Simple encoding</td>\n",
       "      <td>0.59944</td>\n",
       "      <td>0.53788</td>\n",
       "      <td>0.522158</td>\n",
       "      <td>0.538076</td>\n",
       "    </tr>\n",
       "  </tbody>\n",
       "</table>\n",
       "</div>"
      ],
      "text/plain": [
       "  Preparation Method  Random Forest Classifier  Linear SVC       KNN  \\\n",
       "0    Simple encoding                   0.59944     0.53788  0.522158   \n",
       "\n",
       "   Naive Bayes  \n",
       "0     0.538076  "
      ]
     },
     "execution_count": 3,
     "metadata": {},
     "output_type": "execute_result"
    }
   ],
   "source": [
    "csv_path = '../conclusions/performance.csv'\n",
    "performance_df = pd.read_csv(csv_path)\n",
    "performance_df"
   ]
  },
  {
   "cell_type": "code",
   "execution_count": 4,
   "metadata": {},
   "outputs": [],
   "source": [
    "row_index = performance_df.loc[performance_df['Preparation Method'] == 'Simple encoding'].index[0]\n",
    "performance_df.loc[row_index, 'Linear SVC'] = accuracy\n",
    "performance_df.to_csv(csv_path, index=False)"
   ]
  }
 ],
 "metadata": {
  "kernelspec": {
   "display_name": ".venv",
   "language": "python",
   "name": "python3"
  },
  "language_info": {
   "codemirror_mode": {
    "name": "ipython",
    "version": 3
   },
   "file_extension": ".py",
   "mimetype": "text/x-python",
   "name": "python",
   "nbconvert_exporter": "python",
   "pygments_lexer": "ipython3",
   "version": "3.10.12"
  }
 },
 "nbformat": 4,
 "nbformat_minor": 2
}
